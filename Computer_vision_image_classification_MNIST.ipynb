{
  "nbformat": 4,
  "nbformat_minor": 0,
  "metadata": {
    "colab": {
      "provenance": [],
      "gpuType": "T4",
      "mount_file_id": "1-T-lQsvCYzwt0CEJ4fYs_YdpG4Wbn7Js",
      "authorship_tag": "ABX9TyMtM7VWFdaOE0Yhf6txdoCh",
      "include_colab_link": true
    },
    "kernelspec": {
      "name": "python3",
      "display_name": "Python 3"
    },
    "language_info": {
      "name": "python"
    },
    "accelerator": "GPU"
  },
  "cells": [
    {
      "cell_type": "markdown",
      "metadata": {
        "id": "view-in-github",
        "colab_type": "text"
      },
      "source": [
        "<a href=\"https://colab.research.google.com/github/srinilsukumar/Data-analysis-ML-Projects/blob/main/Computer_vision_image_classification_MNIST.ipynb\" target=\"_parent\"><img src=\"https://colab.research.google.com/assets/colab-badge.svg\" alt=\"Open In Colab\"/></a>"
      ]
    },
    {
      "cell_type": "markdown",
      "source": [
        "**IMPORT REQUIRED TORCH LIBRARIES**"
      ],
      "metadata": {
        "id": "mUQb_VKrLyoV"
      }
    },
    {
      "cell_type": "code",
      "execution_count": 1,
      "metadata": {
        "id": "ha4cK7uQEazh"
      },
      "outputs": [],
      "source": [
        "import sys\n",
        "import torch\n",
        "import torch.nn as nn\n",
        "import torchvision.datasets as dset\n",
        "import torchvision.transforms as transforms\n",
        "from torch.autograd import Variable\n",
        "import torch.nn.functional as F\n",
        "import torch.optim as optim\n",
        "from torchsummary import summary"
      ]
    },
    {
      "cell_type": "code",
      "source": [
        "'''\n",
        "SEEDING FOR GETTING SAME OUTPUT\n",
        "'''\n",
        "\n",
        "torch.manual_seed(42)"
      ],
      "metadata": {
        "colab": {
          "base_uri": "https://localhost:8080/"
        },
        "id": "3tFRpUUaMBe4",
        "outputId": "107e6173-586d-45ce-84cf-975581935979"
      },
      "execution_count": 2,
      "outputs": [
        {
          "output_type": "execute_result",
          "data": {
            "text/plain": [
              "<torch._C.Generator at 0x793b50f9c810>"
            ]
          },
          "metadata": {},
          "execution_count": 2
        }
      ]
    },
    {
      "cell_type": "code",
      "source": [
        "'''\n",
        "LOAD MNIST DATASET\n",
        "'''\n",
        "\n",
        "data_path = '/content/drive/MyDrive/data'\n",
        "\n",
        "trans = transforms.Compose([transforms.ToTensor(), transforms.Normalize((0.5,), (1.0,))])\n",
        "full_train_set = dset.MNIST(root=data_path, train=True, transform=trans, download=True)\n",
        "full_test_set = dset.MNIST(root=data_path, train=False, transform=trans)\n",
        "batch_size = 16"
      ],
      "metadata": {
        "colab": {
          "base_uri": "https://localhost:8080/"
        },
        "collapsed": true,
        "id": "DYjNwi2-OFxF",
        "outputId": "3524218a-e8fd-445e-ee07-911c46c663ff"
      },
      "execution_count": 3,
      "outputs": [
        {
          "output_type": "stream",
          "name": "stdout",
          "text": [
            "Downloading http://yann.lecun.com/exdb/mnist/train-images-idx3-ubyte.gz\n",
            "Failed to download (trying next):\n",
            "HTTP Error 403: Forbidden\n",
            "\n",
            "Downloading https://ossci-datasets.s3.amazonaws.com/mnist/train-images-idx3-ubyte.gz\n",
            "Downloading https://ossci-datasets.s3.amazonaws.com/mnist/train-images-idx3-ubyte.gz to /content/drive/MyDrive/data/MNIST/raw/train-images-idx3-ubyte.gz\n"
          ]
        },
        {
          "output_type": "stream",
          "name": "stderr",
          "text": [
            "100%|██████████| 9912422/9912422 [00:10<00:00, 916826.69it/s] \n"
          ]
        },
        {
          "output_type": "stream",
          "name": "stdout",
          "text": [
            "Extracting /content/drive/MyDrive/data/MNIST/raw/train-images-idx3-ubyte.gz to /content/drive/MyDrive/data/MNIST/raw\n",
            "\n",
            "Downloading http://yann.lecun.com/exdb/mnist/train-labels-idx1-ubyte.gz\n",
            "Failed to download (trying next):\n",
            "HTTP Error 403: Forbidden\n",
            "\n",
            "Downloading https://ossci-datasets.s3.amazonaws.com/mnist/train-labels-idx1-ubyte.gz\n",
            "Downloading https://ossci-datasets.s3.amazonaws.com/mnist/train-labels-idx1-ubyte.gz to /content/drive/MyDrive/data/MNIST/raw/train-labels-idx1-ubyte.gz\n"
          ]
        },
        {
          "output_type": "stream",
          "name": "stderr",
          "text": [
            "100%|██████████| 28881/28881 [00:00<00:00, 137331.00it/s]\n"
          ]
        },
        {
          "output_type": "stream",
          "name": "stdout",
          "text": [
            "Extracting /content/drive/MyDrive/data/MNIST/raw/train-labels-idx1-ubyte.gz to /content/drive/MyDrive/data/MNIST/raw\n",
            "\n",
            "Downloading http://yann.lecun.com/exdb/mnist/t10k-images-idx3-ubyte.gz\n",
            "Failed to download (trying next):\n",
            "HTTP Error 403: Forbidden\n",
            "\n",
            "Downloading https://ossci-datasets.s3.amazonaws.com/mnist/t10k-images-idx3-ubyte.gz\n",
            "Downloading https://ossci-datasets.s3.amazonaws.com/mnist/t10k-images-idx3-ubyte.gz to /content/drive/MyDrive/data/MNIST/raw/t10k-images-idx3-ubyte.gz\n"
          ]
        },
        {
          "output_type": "stream",
          "name": "stderr",
          "text": [
            "100%|██████████| 1648877/1648877 [00:01<00:00, 1276888.54it/s]\n"
          ]
        },
        {
          "output_type": "stream",
          "name": "stdout",
          "text": [
            "Extracting /content/drive/MyDrive/data/MNIST/raw/t10k-images-idx3-ubyte.gz to /content/drive/MyDrive/data/MNIST/raw\n",
            "\n",
            "Downloading http://yann.lecun.com/exdb/mnist/t10k-labels-idx1-ubyte.gz\n",
            "Failed to download (trying next):\n",
            "HTTP Error 403: Forbidden\n",
            "\n",
            "Downloading https://ossci-datasets.s3.amazonaws.com/mnist/t10k-labels-idx1-ubyte.gz\n",
            "Downloading https://ossci-datasets.s3.amazonaws.com/mnist/t10k-labels-idx1-ubyte.gz to /content/drive/MyDrive/data/MNIST/raw/t10k-labels-idx1-ubyte.gz\n"
          ]
        },
        {
          "output_type": "stream",
          "name": "stderr",
          "text": [
            "100%|██████████| 4542/4542 [00:00<00:00, 11448635.08it/s]\n"
          ]
        },
        {
          "output_type": "stream",
          "name": "stdout",
          "text": [
            "Extracting /content/drive/MyDrive/data/MNIST/raw/t10k-labels-idx1-ubyte.gz to /content/drive/MyDrive/data/MNIST/raw\n",
            "\n"
          ]
        }
      ]
    },
    {
      "cell_type": "code",
      "source": [
        "'''\n",
        "DISPLAY THE DATA\n",
        "'''\n",
        "from matplotlib import pyplot as plt\n",
        "show = 2\n",
        "max_show = show\n",
        "for i in full_train_set:\n",
        "  current_image = i[0][0]\n",
        "  plt.figure(max_show+1-show)\n",
        "  plt.imshow(current_image)\n",
        "  print(current_image.shape)\n",
        "  show-=1\n",
        "  if show==0:\n",
        "    break"
      ],
      "metadata": {
        "colab": {
          "base_uri": "https://localhost:8080/",
          "height": 878
        },
        "id": "uxQKGQ2PO-HO",
        "outputId": "0d5ef276-922d-43b7-8b44-7e1aab1c7f8e"
      },
      "execution_count": 5,
      "outputs": [
        {
          "output_type": "stream",
          "name": "stdout",
          "text": [
            "torch.Size([28, 28])\n",
            "torch.Size([28, 28])\n"
          ]
        },
        {
          "output_type": "display_data",
          "data": {
            "text/plain": [
              "<Figure size 640x480 with 1 Axes>"
            ],
            "image/png": "[encoded data removed]"
          },
          "metadata": {}
        },
        {
          "output_type": "display_data",
          "data": {
            "text/plain": [
              "<Figure size 640x480 with 1 Axes>"
            ],
            "image/png": "[encoded data removed]"
          },
          "metadata": {}
        }
      ]
    },
    {
      "cell_type": "code",
      "source": [
        "'''\n",
        "USING TORCH DATA-LOADER\n",
        "'''\n",
        "\n",
        "train_loader = torch.utils.data.DataLoader(dataset=full_train_set,batch_size=batch_size,shuffle=False)\n",
        "test_loader = torch.utils.data.DataLoader(dataset=full_test_set,batch_size=batch_size,shuffle=False)"
      ],
      "metadata": {
        "id": "X0teOdjyRRSv"
      },
      "execution_count": 6,
      "outputs": []
    },
    {
      "cell_type": "code",
      "source": [
        "'''\n",
        "BUILDING A TRIMMED ALEX-NET FOR MNIST CLASSIFICATION\n",
        "'''\n",
        "\n",
        "class AlexNet(nn.Module):\n",
        "    def __init__(self, num=10):\n",
        "        super(AlexNet, self).__init__()\n",
        "        self.feature = nn.Sequential(\n",
        "            nn.Conv2d(1, 256, kernel_size=5, stride=1, padding=2),\n",
        "            nn.ReLU(inplace=True),\n",
        "            nn.MaxPool2d( kernel_size=3, stride=2),\n",
        "            nn.Conv2d(256, 384, kernel_size=3, stride=1, padding=1),\n",
        "            nn.ReLU(inplace=True),\n",
        "            nn.Conv2d(384, 384, kernel_size=3, stride=1, padding=1),\n",
        "            nn.ReLU(inplace=True),\n",
        "            nn.Conv2d(384, 256, kernel_size=3, stride=1, padding=1),\n",
        "            nn.ReLU(inplace=True)\n",
        "        )\n",
        "        self.classifier = nn.Sequential(\n",
        "            nn.Dropout(),\n",
        "            nn.Linear(256*13*13,2048),\n",
        "            nn.ReLU(inplace=True),\n",
        "            nn.Dropout(),\n",
        "            nn.Linear(2048,1024),\n",
        "            nn.ReLU(inplace=True),\n",
        "            nn.Linear(1024,num)\n",
        "        )\n",
        "\n",
        "    def forward(self, x):\n",
        "\n",
        "        x = self.feature(x)\n",
        "        x = x.view(-1,256*13*13)\n",
        "        x = self.classifier(x)\n",
        "        return x"
      ],
      "metadata": {
        "id": "wkS9v3SMV7Oh"
      },
      "execution_count": 7,
      "outputs": []
    },
    {
      "cell_type": "code",
      "source": [
        "'''\n",
        "ANALYZING TORCH MODEL SUMMARY\n",
        "'''\n",
        "\n",
        "model = AlexNet()\n",
        "\n",
        "'''\n",
        "ACCLERATED COMPUTING\n",
        "'''\n",
        "\n",
        "if torch.cuda.is_available():\n",
        "  print('GPU is available!')\n",
        "  model.cuda()\n",
        "\n",
        "summary(model, (1, 28, 28))"
      ],
      "metadata": {
        "colab": {
          "base_uri": "https://localhost:8080/"
        },
        "id": "OuktdfDCYS1k",
        "outputId": "1d318174-9fc6-4629-96e6-48ebfd376be4"
      },
      "execution_count": 8,
      "outputs": [
        {
          "output_type": "stream",
          "name": "stdout",
          "text": [
            "GPU is available!\n",
            "----------------------------------------------------------------\n",
            "        Layer (type)               Output Shape         Param #\n",
            "================================================================\n",
            "            Conv2d-1          [-1, 256, 28, 28]           6,656\n",
            "              ReLU-2          [-1, 256, 28, 28]               0\n",
            "         MaxPool2d-3          [-1, 256, 13, 13]               0\n",
            "            Conv2d-4          [-1, 384, 13, 13]         885,120\n",
            "              ReLU-5          [-1, 384, 13, 13]               0\n",
            "            Conv2d-6          [-1, 384, 13, 13]       1,327,488\n",
            "              ReLU-7          [-1, 384, 13, 13]               0\n",
            "            Conv2d-8          [-1, 256, 13, 13]         884,992\n",
            "              ReLU-9          [-1, 256, 13, 13]               0\n",
            "          Dropout-10                [-1, 43264]               0\n",
            "           Linear-11                 [-1, 2048]      88,606,720\n",
            "             ReLU-12                 [-1, 2048]               0\n",
            "          Dropout-13                 [-1, 2048]               0\n",
            "           Linear-14                 [-1, 1024]       2,098,176\n",
            "             ReLU-15                 [-1, 1024]               0\n",
            "           Linear-16                   [-1, 10]          10,250\n",
            "================================================================\n",
            "Total params: 93,819,402\n",
            "Trainable params: 93,819,402\n",
            "Non-trainable params: 0\n",
            "----------------------------------------------------------------\n",
            "Input size (MB): 0.00\n",
            "Forward/backward pass size (MB): 6.43\n",
            "Params size (MB): 357.89\n",
            "Estimated Total Size (MB): 364.32\n",
            "----------------------------------------------------------------\n"
          ]
        }
      ]
    },
    {
      "cell_type": "code",
      "source": [
        "'''\n",
        "MODEL TRAINING AND TESTING FUNCTIONS\n",
        "'''\n",
        "\n",
        "train_losses = []\n",
        "test_losses = []\n",
        "\n",
        "def train(model,optimizer,train_loader,epoch):\n",
        "    model.train()\n",
        "    for batch_idx, (data, target) in enumerate(train_loader):\n",
        "        if torch.cuda.is_available():\n",
        "            data, target = data.cuda(), target.cuda()\n",
        "        data, target = Variable(data), Variable(target)\n",
        "        optimizer.zero_grad()\n",
        "        output = model(data)\n",
        "        loss = F.cross_entropy(output, target)\n",
        "        train_losses.append(loss.item())\n",
        "        loss.backward()\n",
        "        optimizer.step()\n",
        "        if batch_idx % 100 == 0:\n",
        "            print('\\rEpoch: {} {:.0f}%\\t     Loss: {:.6f}'.format(\n",
        "                epoch,\n",
        "                100. * batch_idx / len(train_loader), loss.item()), end='')\n",
        "\n",
        "def test(model,test_loader):\n",
        "    model.eval()\n",
        "    test_loss = 0\n",
        "    correct = 0\n",
        "    for data, target in test_loader:\n",
        "        if torch.cuda.is_available():\n",
        "            data, target = data.cuda(), target.cuda()\n",
        "        with torch.no_grad():\n",
        "            data, target = Variable(data), Variable(target)\n",
        "        output = model(data)\n",
        "        test_loss += F.cross_entropy(output, target, reduction='sum').item()#size_average=False\n",
        "        pred = output.data.max(1, keepdim=True)[1] # get the index of the max log-probability\n",
        "        correct += pred.eq(target.data.view_as(pred)).long().cpu().sum()\n",
        "\n",
        "\n",
        "    test_loss /= len(test_loader.dataset)\n",
        "    test_losses.append(test_loss)\n",
        "    acc=100. * float(correct.to(torch.device('cpu')).numpy())\n",
        "    print('\\nTest result: Average loss: {:.4f}, Accuracy: {:.4f}%\\n'.format(\n",
        "        test_loss, acc / len(test_loader.dataset)))\n",
        "\n",
        "    test_accuracy = (acc / len(test_loader.dataset))\n",
        "    return test_accuracy"
      ],
      "metadata": {
        "id": "SH0I1sf8YX6q"
      },
      "execution_count": 9,
      "outputs": []
    },
    {
      "cell_type": "code",
      "source": [
        "'''\n",
        "INITIALIZE THE OPTIMIZER - LOSS FUNCTION\n",
        "'''\n",
        "\n",
        "optimizer = optim.SGD(model.parameters(), lr=0.01)"
      ],
      "metadata": {
        "id": "yZ1XCuAbaXmV"
      },
      "execution_count": 10,
      "outputs": []
    },
    {
      "cell_type": "code",
      "source": [
        "'''\n",
        "TRAIN AND TEST THE MODEL\n",
        "'''\n",
        "\n",
        "epochs = 2\n",
        "\n",
        "for epoch in range(1, epochs+1):\n",
        "    train(model,optimizer,train_loader,epoch)\n",
        "    accuracy = test(model,test_loader)\n",
        "    # print(f'----------------')\n",
        "    # print(f'Epoch: {epoch+1}')\n",
        "    # print(f'Accuracy: {accuracy}')"
      ],
      "metadata": {
        "colab": {
          "base_uri": "https://localhost:8080/"
        },
        "id": "FSED3e1Cabk0",
        "outputId": "7ce286a4-6b2c-4403-c42d-963d20a76e3d"
      },
      "execution_count": 11,
      "outputs": [
        {
          "output_type": "stream",
          "name": "stdout",
          "text": [
            "Epoch: 1 99%\t     Loss: 0.062556\n",
            "Test result: Average loss: 0.0996, Accuracy: 96.7600%\n",
            "\n",
            "Epoch: 2 99%\t     Loss: 0.002397\n",
            "Test result: Average loss: 0.0523, Accuracy: 98.2300%\n",
            "\n"
          ]
        }
      ]
    }
  ]
}