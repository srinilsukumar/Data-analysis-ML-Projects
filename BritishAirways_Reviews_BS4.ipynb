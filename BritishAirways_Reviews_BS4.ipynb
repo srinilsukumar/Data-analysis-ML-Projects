{
  "nbformat": 4,
  "nbformat_minor": 0,
  "metadata": {
    "colab": {
      "provenance": [],
      "mount_file_id": "16CcmdTUhiD7G65VJZHZ2lSPL_-RbJIr3",
      "authorship_tag": "ABX9TyM714VQMmM4bVRCeBrTi7hY",
      "include_colab_link": true
    },
    "kernelspec": {
      "name": "python3",
      "display_name": "Python 3"
    },
    "language_info": {
      "name": "python"
    }
  },
  "cells": [
    {
      "cell_type": "markdown",
      "metadata": {
        "id": "view-in-github",
        "colab_type": "text"
      },
      "source": [
        "<a href=\"https://colab.research.google.com/github/srinilsukumar/Data-analysis-ML-Projects/blob/main/BritishAirways_Reviews_BS4.ipynb\" target=\"_parent\"><img src=\"https://colab.research.google.com/assets/colab-badge.svg\" alt=\"Open In Colab\"/></a>"
      ]
    },
    {
      "cell_type": "markdown",
      "source": [
        "## Import necessary libraries"
      ],
      "metadata": {
        "id": "xL0DLgW0LkO4"
      }
    },
    {
      "cell_type": "code",
      "execution_count": 1,
      "metadata": {
        "id": "A8WKSglS5ZYA"
      },
      "outputs": [],
      "source": [
        "import os\n",
        "import requests\n",
        "from bs4 import BeautifulSoup\n",
        "import pandas as pd"
      ]
    },
    {
      "cell_type": "markdown",
      "source": [
        "## Web scraping using BeautifulSoup"
      ],
      "metadata": {
        "id": "iElS7jB9Lomw"
      }
    },
    {
      "cell_type": "code",
      "source": [
        "pages=10\n",
        "pagesize=100\n",
        "reviews=[]\n",
        "for i in range(1,pages+1):\n",
        "  url=f'https://www.airlinequality.com/airline-reviews/british-airways/page/{i}/?sortby=post_date%3ADesc&pagesize={pagesize}'\n",
        "  html=requests.get(url).text\n",
        "  soup=BeautifulSoup(html,'lxml')\n",
        "  # print(soup.prettify())\n",
        "  for review in soup.find_all('div',class_=\"body\"):\n",
        "    comment=review.find('div',class_=\"text_content\",itemprop=\"reviewBody\").text\n",
        "    reviews.append(comment)\n",
        "    # print(comment)\n"
      ],
      "metadata": {
        "collapsed": true,
        "id": "_CJUTgcz5jrC"
      },
      "execution_count": 27,
      "outputs": []
    },
    {
      "cell_type": "code",
      "source": [
        "os.getcwd()"
      ],
      "metadata": {
        "colab": {
          "base_uri": "https://localhost:8080/",
          "height": 35
        },
        "id": "PR7MWNteDy-C",
        "outputId": "1f642c53-2ba4-49b4-b1f9-68d31afbef6b"
      },
      "execution_count": 14,
      "outputs": [
        {
          "output_type": "execute_result",
          "data": {
            "text/plain": [
              "'/content'"
            ],
            "application/vnd.google.colaboratory.intrinsic+json": {
              "type": "string"
            }
          },
          "metadata": {},
          "execution_count": 14
        }
      ]
    },
    {
      "cell_type": "markdown",
      "source": [
        "## Creating CSV file and adding scraped reviews"
      ],
      "metadata": {
        "id": "pHgrHfqqL34d"
      }
    },
    {
      "cell_type": "code",
      "source": [
        "df=pd.DataFrame()\n",
        "df['reviews']=reviews\n",
        "df.to_csv('British_airways.csv')"
      ],
      "metadata": {
        "id": "N0VeZced_5I7"
      },
      "execution_count": 26,
      "outputs": []
    },
    {
      "cell_type": "code",
      "source": [
        "from google.colab import drive\n",
        "drive.mount('/content/drive')"
      ],
      "metadata": {
        "colab": {
          "base_uri": "https://localhost:8080/"
        },
        "id": "3UOmB1CxEpq5",
        "outputId": "e477a2f7-19e4-4f15-e594-32d27b2cb108"
      },
      "execution_count": 23,
      "outputs": [
        {
          "output_type": "stream",
          "name": "stdout",
          "text": [
            "Drive already mounted at /content/drive; to attempt to forcibly remount, call drive.mount(\"/content/drive\", force_remount=True).\n"
          ]
        }
      ]
    }
  ]
}